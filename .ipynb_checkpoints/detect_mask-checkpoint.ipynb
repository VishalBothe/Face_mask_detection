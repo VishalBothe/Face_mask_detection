{
 "cells": [
  {
   "cell_type": "code",
   "execution_count": 30,
   "metadata": {},
   "outputs": [],
   "source": [
    "import numpy as np\n",
    "import cv2"
   ]
  },
  {
   "cell_type": "code",
   "execution_count": 31,
   "metadata": {},
   "outputs": [],
   "source": [
    "with_mask = np.load('with_mask_dataset.npy',allow_pickle=True)\n",
    "without_mask = np.load('without_mask_dataset.npy',allow_pickle=True)"
   ]
  },
  {
   "cell_type": "code",
   "execution_count": 34,
   "metadata": {},
   "outputs": [
    {
     "data": {
      "text/plain": [
       "(80,)"
      ]
     },
     "execution_count": 34,
     "metadata": {},
     "output_type": "execute_result"
    }
   ],
   "source": [
    "with_mask.shape"
   ]
  },
  {
   "cell_type": "code",
   "execution_count": 35,
   "metadata": {},
   "outputs": [
    {
     "data": {
      "text/plain": [
       "(80,)"
      ]
     },
     "execution_count": 35,
     "metadata": {},
     "output_type": "execute_result"
    }
   ],
   "source": [
    "without_mask.shape"
   ]
  },
  {
   "cell_type": "code",
   "execution_count": 7,
   "metadata": {},
   "outputs": [],
   "source": [
    "with_mask = with_mask.reshape(759, 50*50*3)\n",
    "without_mask = without_mask.reshape(759, 50*50*3)"
   ]
  },
  {
   "cell_type": "code",
   "execution_count": 8,
   "metadata": {},
   "outputs": [
    {
     "data": {
      "text/plain": [
       "(759, 7500)"
      ]
     },
     "execution_count": 8,
     "metadata": {},
     "output_type": "execute_result"
    }
   ],
   "source": [
    "with_mask.shape"
   ]
  },
  {
   "cell_type": "code",
   "execution_count": 9,
   "metadata": {},
   "outputs": [
    {
     "data": {
      "text/plain": [
       "(759, 7500)"
      ]
     },
     "execution_count": 9,
     "metadata": {},
     "output_type": "execute_result"
    }
   ],
   "source": [
    "without_mask.shape"
   ]
  },
  {
   "cell_type": "code",
   "execution_count": 10,
   "metadata": {},
   "outputs": [],
   "source": [
    "x = np.r_[with_mask, without_mask]"
   ]
  },
  {
   "cell_type": "code",
   "execution_count": 11,
   "metadata": {},
   "outputs": [
    {
     "data": {
      "text/plain": [
       "(1518, 7500)"
      ]
     },
     "execution_count": 11,
     "metadata": {},
     "output_type": "execute_result"
    }
   ],
   "source": [
    "x.shape"
   ]
  },
  {
   "cell_type": "code",
   "execution_count": 12,
   "metadata": {},
   "outputs": [],
   "source": [
    "labels = np.zeros(x.shape[0])"
   ]
  },
  {
   "cell_type": "code",
   "execution_count": 13,
   "metadata": {},
   "outputs": [],
   "source": [
    "labels[759:] = 1.0"
   ]
  },
  {
   "cell_type": "code",
   "execution_count": 14,
   "metadata": {},
   "outputs": [],
   "source": [
    "names = {0:\"wearing mask\",1:\"no mask\"}"
   ]
  },
  {
   "cell_type": "code",
   "execution_count": 15,
   "metadata": {},
   "outputs": [],
   "source": [
    "# SVM - Support Vector Machine\n",
    "# SVC - Support Vector Classification\n",
    "from sklearn.svm import SVC\n",
    "from sklearn.metrics import accuracy_score\n",
    "from sklearn.model_selection import train_test_split"
   ]
  },
  {
   "cell_type": "code",
   "execution_count": 16,
   "metadata": {},
   "outputs": [],
   "source": [
    "x_train,x_test,y_train,y_test = train_test_split(x,labels, test_size=0.25)"
   ]
  },
  {
   "cell_type": "code",
   "execution_count": 17,
   "metadata": {},
   "outputs": [
    {
     "data": {
      "text/plain": [
       "(1138, 7500)"
      ]
     },
     "execution_count": 17,
     "metadata": {},
     "output_type": "execute_result"
    }
   ],
   "source": [
    "x_train.shape"
   ]
  },
  {
   "cell_type": "code",
   "execution_count": 18,
   "metadata": {},
   "outputs": [],
   "source": [
    "# PCA - Principle Component Analysis\n",
    "from sklearn.decomposition import PCA"
   ]
  },
  {
   "cell_type": "code",
   "execution_count": 19,
   "metadata": {},
   "outputs": [],
   "source": [
    "pca = PCA(n_components=3)\n",
    "x_train = pca.fit_transform(x_train)"
   ]
  },
  {
   "cell_type": "code",
   "execution_count": 20,
   "metadata": {},
   "outputs": [
    {
     "data": {
      "text/plain": [
       "(1138, 3)"
      ]
     },
     "execution_count": 20,
     "metadata": {},
     "output_type": "execute_result"
    }
   ],
   "source": [
    "x_train.shape"
   ]
  },
  {
   "cell_type": "code",
   "execution_count": 21,
   "metadata": {},
   "outputs": [],
   "source": [
    "x_train,x_test,y_train,y_test = train_test_split(x,labels, test_size=0.20)"
   ]
  },
  {
   "cell_type": "code",
   "execution_count": 22,
   "metadata": {},
   "outputs": [
    {
     "data": {
      "text/plain": [
       "SVC()"
      ]
     },
     "execution_count": 22,
     "metadata": {},
     "output_type": "execute_result"
    }
   ],
   "source": [
    "svm = SVC()\n",
    "svm.fit(x_train,y_train)"
   ]
  },
  {
   "cell_type": "code",
   "execution_count": 23,
   "metadata": {},
   "outputs": [],
   "source": [
    "#x_test = pca.fit_transform(x_test)\n",
    "y_pred = svm.predict(x_test)"
   ]
  },
  {
   "cell_type": "code",
   "execution_count": 24,
   "metadata": {},
   "outputs": [
    {
     "data": {
      "text/plain": [
       "0.9407894736842105"
      ]
     },
     "execution_count": 24,
     "metadata": {},
     "output_type": "execute_result"
    }
   ],
   "source": [
    "accuracy_score(y_test,y_pred)"
   ]
  },
  {
   "cell_type": "code",
   "execution_count": 25,
   "metadata": {},
   "outputs": [
    {
     "name": "stdout",
     "output_type": "stream",
     "text": [
      "wearing mask\n",
      "wearing mask\n",
      "wearing mask\n",
      "wearing mask\n",
      "wearing mask\n",
      "wearing mask\n",
      "wearing mask\n",
      "wearing mask\n",
      "wearing mask\n",
      "wearing mask\n",
      "wearing mask\n",
      "wearing mask\n",
      "wearing mask\n",
      "wearing mask\n",
      "wearing mask\n",
      "wearing mask\n",
      "wearing mask\n",
      "wearing mask\n",
      "wearing mask\n",
      "wearing mask\n",
      "wearing mask\n",
      "wearing mask\n",
      "wearing mask\n",
      "wearing mask\n",
      "wearing mask\n",
      "wearing mask\n",
      "wearing mask\n",
      "wearing mask\n",
      "wearing mask\n",
      "wearing mask\n",
      "wearing mask\n",
      "wearing mask\n",
      "wearing mask\n",
      "wearing mask\n",
      "wearing mask\n",
      "wearing mask\n",
      "wearing mask\n",
      "wearing mask\n",
      "wearing mask\n",
      "wearing mask\n",
      "wearing mask\n",
      "wearing mask\n",
      "wearing mask\n",
      "wearing mask\n",
      "wearing mask\n",
      "wearing mask\n",
      "wearing mask\n",
      "wearing mask\n",
      "wearing mask\n",
      "wearing mask\n",
      "wearing mask\n",
      "wearing mask\n",
      "wearing mask\n",
      "wearing mask\n",
      "wearing mask\n",
      "wearing mask\n",
      "wearing mask\n",
      "wearing mask\n",
      "wearing mask\n",
      "wearing mask\n",
      "wearing mask\n",
      "wearing mask\n",
      "wearing mask\n",
      "wearing mask\n",
      "wearing mask\n",
      "wearing mask\n",
      "wearing mask\n",
      "wearing mask\n",
      "wearing mask\n",
      "wearing mask\n",
      "wearing mask\n",
      "wearing mask\n",
      "wearing mask\n",
      "wearing mask\n",
      "wearing mask\n",
      "wearing mask\n",
      "wearing mask\n",
      "wearing mask\n",
      "wearing mask\n",
      "wearing mask\n",
      "wearing mask\n",
      "wearing mask\n",
      "wearing mask\n",
      "wearing mask\n",
      "wearing mask\n",
      "wearing mask\n",
      "wearing mask\n",
      "wearing mask\n",
      "wearing mask\n",
      "wearing mask\n",
      "wearing mask\n",
      "wearing mask\n",
      "wearing mask\n",
      "wearing mask\n",
      "wearing mask\n",
      "wearing mask\n",
      "wearing mask\n",
      "wearing mask\n",
      "wearing mask\n",
      "wearing mask\n",
      "wearing mask\n",
      "wearing mask\n",
      "wearing mask\n",
      "wearing mask\n",
      "wearing mask\n",
      "wearing mask\n",
      "wearing mask\n",
      "wearing mask\n",
      "wearing mask\n",
      "wearing mask\n",
      "wearing mask\n",
      "wearing mask\n",
      "wearing mask\n",
      "wearing mask\n",
      "wearing mask\n",
      "wearing mask\n",
      "wearing mask\n",
      "wearing mask\n",
      "wearing mask\n",
      "wearing mask\n",
      "wearing mask\n",
      "wearing mask\n",
      "wearing mask\n",
      "wearing mask\n",
      "wearing mask\n",
      "wearing mask\n",
      "wearing mask\n",
      "wearing mask\n",
      "wearing mask\n",
      "wearing mask\n",
      "wearing mask\n",
      "wearing mask\n",
      "wearing mask\n",
      "wearing mask\n",
      "wearing mask\n",
      "wearing mask\n",
      "wearing mask\n",
      "wearing mask\n",
      "wearing mask\n",
      "wearing mask\n",
      "wearing mask\n",
      "wearing mask\n",
      "wearing mask\n",
      "wearing mask\n",
      "wearing mask\n",
      "wearing mask\n",
      "wearing mask\n",
      "wearing mask\n",
      "wearing mask\n",
      "wearing mask\n",
      "wearing mask\n",
      "wearing mask\n",
      "wearing mask\n",
      "wearing mask\n",
      "wearing mask\n",
      "wearing mask\n",
      "wearing mask\n",
      "wearing mask\n",
      "wearing mask\n",
      "wearing mask\n",
      "wearing mask\n",
      "wearing mask\n",
      "wearing mask\n",
      "wearing mask\n",
      "wearing mask\n",
      "wearing mask\n",
      "wearing mask\n",
      "wearing mask\n",
      "wearing mask\n",
      "wearing mask\n",
      "wearing mask\n",
      "wearing mask\n",
      "wearing mask\n",
      "wearing mask\n",
      "wearing mask\n",
      "wearing mask\n",
      "wearing mask\n",
      "wearing mask\n",
      "wearing mask\n",
      "wearing mask\n",
      "wearing mask\n",
      "wearing mask\n",
      "wearing mask\n",
      "wearing mask\n",
      "wearing mask\n",
      "wearing mask\n",
      "wearing mask\n",
      "wearing mask\n",
      "wearing mask\n",
      "wearing mask\n",
      "wearing mask\n",
      "wearing mask\n",
      "wearing mask\n",
      "wearing mask\n",
      "wearing mask\n",
      "wearing mask\n",
      "wearing mask\n",
      "wearing mask\n",
      "wearing mask\n",
      "wearing mask\n",
      "wearing mask\n",
      "wearing mask\n",
      "wearing mask\n",
      "wearing mask\n",
      "wearing mask\n",
      "wearing mask\n",
      "wearing mask\n",
      "wearing mask\n",
      "wearing mask\n",
      "wearing mask\n",
      "wearing mask\n",
      "wearing mask\n",
      "wearing mask\n",
      "wearing mask\n",
      "wearing mask\n",
      "wearing mask\n",
      "wearing mask\n",
      "wearing mask\n",
      "wearing mask\n",
      "wearing mask\n",
      "wearing mask\n",
      "wearing mask\n",
      "wearing mask\n",
      "wearing mask\n",
      "wearing mask\n",
      "wearing mask\n",
      "wearing mask\n",
      "wearing mask\n",
      "wearing mask\n",
      "wearing mask\n",
      "wearing mask\n",
      "wearing mask\n",
      "wearing mask\n",
      "wearing mask\n",
      "wearing mask\n",
      "wearing mask\n",
      "wearing mask\n",
      "wearing mask\n",
      "wearing mask\n",
      "wearing mask\n",
      "wearing mask\n",
      "wearing mask\n",
      "wearing mask\n",
      "wearing mask\n",
      "wearing mask\n",
      "wearing mask\n",
      "wearing mask\n",
      "wearing mask\n",
      "wearing mask\n",
      "wearing mask\n",
      "wearing mask\n",
      "wearing mask\n",
      "wearing mask\n",
      "wearing mask\n",
      "wearing mask\n",
      "wearing mask\n",
      "wearing mask\n",
      "wearing mask\n",
      "wearing mask\n",
      "wearing mask\n",
      "wearing mask\n",
      "wearing mask\n",
      "wearing mask\n",
      "wearing mask\n",
      "wearing mask\n",
      "wearing mask\n",
      "wearing mask\n",
      "wearing mask\n",
      "wearing mask\n",
      "wearing mask\n",
      "wearing mask\n",
      "wearing mask\n",
      "wearing mask\n",
      "wearing mask\n",
      "wearing mask\n",
      "wearing mask\n",
      "wearing mask\n",
      "wearing mask\n",
      "wearing mask\n",
      "wearing mask\n",
      "wearing mask\n",
      "wearing mask\n",
      "wearing mask\n",
      "wearing mask\n",
      "wearing mask\n",
      "wearing mask\n",
      "wearing mask\n",
      "wearing mask\n",
      "wearing mask\n",
      "wearing mask\n",
      "wearing mask\n",
      "wearing mask\n",
      "wearing mask\n",
      "wearing mask\n",
      "wearing mask\n",
      "wearing mask\n",
      "wearing mask\n",
      "wearing mask\n",
      "wearing mask\n",
      "wearing mask\n",
      "wearing mask\n",
      "wearing mask\n",
      "wearing mask\n",
      "wearing mask\n",
      "wearing mask\n",
      "wearing mask\n",
      "wearing mask\n",
      "wearing mask\n",
      "wearing mask\n",
      "wearing mask\n",
      "wearing mask\n",
      "wearing mask\n",
      "wearing mask\n",
      "wearing mask\n",
      "wearing mask\n"
     ]
    }
   ],
   "source": [
    "haar_data = cv2.CascadeClassifier('F:/online_course_projects/fmd/resource/data.xml')\n",
    "capture = cv2.VideoCapture(0)\n",
    "data = []\n",
    "while True:\n",
    "    flag, img = capture.read()\n",
    "    if flag:\n",
    "        faces = haar_data.detectMultiScale(img)\n",
    "        for x,y,w,h in faces:\n",
    "            cv2.rectangle(img,(x,y),(x+w,y+h),(255,0,255),4)\n",
    "            face = img[y:y+h,x:x+w,:]\n",
    "            face = cv2.resize(face, (50,50))\n",
    "            face = face.reshape(1,-1)\n",
    "#             face = pca.transform(face)\n",
    "            pred = svm.predict(face)\n",
    "            n = names[int(pred)]\n",
    "            print(n)\n",
    "            cv2.putText(img,n,(x,y),cv2.FONT_HERSHEY_COMPLEX,1,(244,250,250),2)\n",
    "        cv2.imshow('result',img)\n",
    "        if cv2.waitKey(2) == 27:\n",
    "            break\n",
    "capture.release()\n",
    "cv2.destroyAllWindows()"
   ]
  },
  {
   "cell_type": "code",
   "execution_count": null,
   "metadata": {},
   "outputs": [],
   "source": []
  }
 ],
 "metadata": {
  "kernelspec": {
   "display_name": "Python 3",
   "language": "python",
   "name": "python3"
  },
  "language_info": {
   "codemirror_mode": {
    "name": "ipython",
    "version": 3
   },
   "file_extension": ".py",
   "mimetype": "text/x-python",
   "name": "python",
   "nbconvert_exporter": "python",
   "pygments_lexer": "ipython3",
   "version": "3.8.5"
  }
 },
 "nbformat": 4,
 "nbformat_minor": 4
}
